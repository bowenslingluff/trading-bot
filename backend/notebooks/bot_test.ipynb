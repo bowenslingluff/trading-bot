{
 "cells": [
  {
   "cell_type": "code",
   "execution_count": null,
   "id": "8d1e937e",
   "metadata": {},
   "outputs": [],
   "source": [
    "import sys\n",
    "import os\n",
    "sys.path.append('../')  # Add the app directory to path\n",
    "\n",
    "from app.alpaca_client import *\n",
    "import time"
   ]
  },
  {
   "cell_type": "code",
   "execution_count": null,
   "id": "2a832ee6",
   "metadata": {},
   "outputs": [],
   "source": [
    "from app.bot import run_bot\n",
    "\n",
    "result = run_bot(\"AAPL\", qty=1)"
   ]
  }
 ],
 "metadata": {
  "language_info": {
   "name": "python"
  }
 },
 "nbformat": 4,
 "nbformat_minor": 5
}
