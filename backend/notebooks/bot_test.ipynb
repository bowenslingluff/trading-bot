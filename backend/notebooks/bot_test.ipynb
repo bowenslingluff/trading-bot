{
 "cells": [
  {
   "cell_type": "code",
   "execution_count": 1,
   "id": "8d1e937e",
   "metadata": {},
   "outputs": [],
   "source": [
    "import sys\n",
    "\n",
    "sys.path.append('../')"
   ]
  },
  {
   "cell_type": "code",
   "execution_count": 4,
   "id": "2a832ee6",
   "metadata": {},
   "outputs": [
    {
     "name": "stdout",
     "output_type": "stream",
     "text": [
      "ChatCompletion(id='chatcmpl-CFAZ2ZzRoHzC8GGYaG9u6hiRBwfip', choices=[Choice(finish_reason='stop', index=0, logprobs=None, message=ChatCompletionMessage(content='{\\n    \"side\": \"buy\",\\n    \"qty\": 1,\\n    \"order_type\": \"market\",\\n    \"stop_loss\": 505.0,\\n    \"take_profit\": 520.0,\\n    \"reasoning\": \"The current trend for MSFT is bullish as the price is above both the 20-period SMA and the 50-period SMA, confirming an upward movement. The RSI indicates a weak overbought condition which suggests potential consolidation but not an immediate reversal. Momentum indicators show that the MACD is positive, although the histogram is diminishing which could hint at the need for caution. There is an increasing volume trend, which supports the strength of the current price movement. The recent closes indicate a slight consolidation above a key support level at around $510. If the price reaches $520, it would provide strong resistance, suggesting a favorable take-profit target. Calculating the risk/reward ratio gives us a potential reward of $10 against a risk of $5, yielding an approximate risk/reward ratio of 2:1. This aligns with our long-only strategy, indicating a suitable time to enter the market.\",\\n    \"confidence\": 0.75,\\n    \"risk_reward\": 2.0\\n}', refusal=None, role='assistant', annotations=[], audio=None, function_call=None, tool_calls=None))], created=1757731564, model='gpt-4o-mini-2024-07-18', object='chat.completion', service_tier='default', system_fingerprint='fp_8bda4d3a2c', usage=CompletionUsage(completion_tokens=249, prompt_tokens=734, total_tokens=983, completion_tokens_details=CompletionTokensDetails(accepted_prediction_tokens=0, audio_tokens=0, reasoning_tokens=0, rejected_prediction_tokens=0), prompt_tokens_details=PromptTokensDetails(audio_tokens=0, cached_tokens=0)))\n",
      "🚀 Placing BUY order for 1 MSFT\n",
      "   Stop Loss: $505.00\n",
      "   Take Profit: $520.00\n",
      "   Entry Price: 510.45\n",
      "   Confidence: 0.75\n",
      "   Reasoning: The current trend for MSFT is bullish as the price is above both the 20-period SMA and the 50-period SMA, confirming an upward movement. The RSI indicates a weak overbought condition which suggests potential consolidation but not an immediate reversal. Momentum indicators show that the MACD is positive, although the histogram is diminishing which could hint at the need for caution. There is an increasing volume trend, which supports the strength of the current price movement. The recent closes indicate a slight consolidation above a key support level at around $510. If the price reaches $520, it would provide strong resistance, suggesting a favorable take-profit target. Calculating the risk/reward ratio gives us a potential reward of $10 against a risk of $5, yielding an approximate risk/reward ratio of 2:1. This aligns with our long-only strategy, indicating a suitable time to enter the market.\n",
      "   Risk/Reward Ratio: 1.752293577981657\n"
     ]
    }
   ],
   "source": [
    "from app.bot import run_bot\n",
    "\n",
    "result = run_bot(\"MSFT\", qty=1)"
   ]
  }
 ],
 "metadata": {
  "kernelspec": {
   "display_name": "venv",
   "language": "python",
   "name": "python3"
  },
  "language_info": {
   "codemirror_mode": {
    "name": "ipython",
    "version": 3
   },
   "file_extension": ".py",
   "mimetype": "text/x-python",
   "name": "python",
   "nbconvert_exporter": "python",
   "pygments_lexer": "ipython3",
   "version": "3.11.0"
  }
 },
 "nbformat": 4,
 "nbformat_minor": 5
}
