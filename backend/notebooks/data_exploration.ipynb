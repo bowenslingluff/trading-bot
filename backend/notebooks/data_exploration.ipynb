{
 "cells": [
  {
   "cell_type": "code",
   "execution_count": 1,
   "id": "59fbe0c5",
   "metadata": {},
   "outputs": [],
   "source": [
    "import sys\n",
    "import os\n",
    "sys.path.append('../')  # Add the app directory to path\n",
    "\n",
    "from app.alpaca_client import (\n",
    "    market_order, limit_order, get_orders, \n",
    "    cancel_order_by_id, get_order_status\n",
    ")\n",
    "import time"
   ]
  },
  {
   "cell_type": "code",
   "execution_count": 6,
   "id": "a2202fa8",
   "metadata": {},
   "outputs": [
    {
     "name": "stdout",
     "output_type": "stream",
     "text": [
      "\"id\": 7a83c6b7-e3b9-4d88-94cd-57841c97b00d\n",
      "\"client_order_id\": bee7a5c4-1c63-466c-a3db-16e0d82b2994\n",
      "\"created_at\": 2025-09-06 01:18:54.254785+00:00\n",
      "\"updated_at\": 2025-09-06 01:18:54.257144+00:00\n",
      "\"submitted_at\": 2025-09-06 01:18:54.254785+00:00\n",
      "\"filled_at\": None\n",
      "\"expired_at\": None\n",
      "\"expires_at\": 2025-09-08 20:00:00+00:00\n",
      "\"canceled_at\": None\n",
      "\"failed_at\": None\n",
      "\"replaced_at\": None\n",
      "\"replaced_by\": None\n",
      "\"replaces\": None\n",
      "\"asset_id\": b0b6dd9d-8b9b-48a9-ba46-b9d54906e415\n",
      "\"symbol\": AAPL\n",
      "\"asset_class\": AssetClass.US_EQUITY\n",
      "\"notional\": None\n",
      "\"qty\": 1\n",
      "\"filled_qty\": 0\n",
      "\"filled_avg_price\": None\n",
      "\"order_class\": OrderClass.SIMPLE\n",
      "\"order_type\": OrderType.MARKET\n",
      "\"type\": OrderType.MARKET\n",
      "\"side\": OrderSide.BUY\n",
      "\"time_in_force\": TimeInForce.DAY\n",
      "\"limit_price\": None\n",
      "\"stop_price\": None\n",
      "\"status\": OrderStatus.ACCEPTED\n",
      "\"extended_hours\": False\n",
      "\"legs\": None\n",
      "\"trail_percent\": None\n",
      "\"trail_price\": None\n",
      "\"hwm\": None\n",
      "\"position_intent\": PositionIntent.BUY_TO_OPEN\n",
      "\"ratio_qty\": None\n",
      "✅ Order placed successfully!\n",
      "Order ID: 7a83c6b7-e3b9-4d88-94cd-57841c97b00d\n",
      "Status: OrderStatus.ACCEPTED\n",
      "Symbol: AAPL\n",
      "Quantity: 1\n",
      "Side: OrderSide.BUY\n"
     ]
    }
   ],
   "source": [
    "# Place a small market order (paper trading)\n",
    "try:\n",
    "    # Place a small buy order for AAPL (1 share)\n",
    "    order = market_order(\"AAPL\", 1, \"buy\")\n",
    "    print(\"✅ Order placed successfully!\")\n",
    "    print(f\"Order ID: {order.id}\")\n",
    "    print(f\"Status: {order.status}\")\n",
    "    print(f\"Symbol: {order.symbol}\")\n",
    "    print(f\"Quantity: {order.qty}\")\n",
    "    print(f\"Side: {order.side}\")\n",
    "except Exception as e:\n",
    "    print(f\"❌ Error placing order: {e}\")"
   ]
  },
  {
   "cell_type": "code",
   "execution_count": 2,
   "id": "35db5b3c",
   "metadata": {},
   "outputs": [
    {
     "name": "stdout",
     "output_type": "stream",
     "text": [
      "Total orders: 0\n",
      "--------------------------------------------------\n"
     ]
    }
   ],
   "source": [
    "try:\n",
    "    orders = get_orders()\n",
    "    print(f\"Total orders: {len(orders)}\")\n",
    "    print(\"-\" * 50)\n",
    "    for i, order in enumerate(orders, 1):\n",
    "        print(f\"{i}. Order ID: {order.id}\")\n",
    "        print(f\"   Symbol: {order.symbol}\")\n",
    "        print(f\"   Quantity: {order.qty}\")\n",
    "        print(f\"   Side: {order.side}\")\n",
    "        print(f\"   Status: {order.status}\")\n",
    "        print(f\"   Created: {order.created_at}\")\n",
    "        print(\"-\" * 30)\n",
    "\n",
    "\n",
    "except Exception as e:\n",
    "    print(f\"❌ Error placing order: {e}\")"
   ]
  },
  {
   "cell_type": "code",
   "execution_count": 2,
   "id": "0305bc01",
   "metadata": {},
   "outputs": [
    {
     "name": "stdout",
     "output_type": "stream",
     "text": [
      "{'message': 'Order 7a83c6b7-e3b9-4d88-94cd-57841c97b00d cannot be cancelled (status: OrderStatus.CANCELED)'}\n",
      "�� Order status after cancellation: OrderStatus.CANCELED\n"
     ]
    }
   ],
   "source": [
    "try:\n",
    "    # Replace with your actual order ID\n",
    "    order_id = \"7a83c6b7-e3b9-4d88-94cd-57841c97b00d\"  # Update this!\n",
    "    \n",
    "    print(cancel_order_by_id(order_id))\n",
    "    \n",
    "    # Wait a moment and check status\n",
    "    time.sleep(2)\n",
    "    status = get_order_status(order_id)\n",
    "    print(f\"�� Order status after cancellation: {status}\")\n",
    "    \n",
    "except Exception as e:\n",
    "    print(f\"❌ Error cancelling order: {e}\")"
   ]
  }
 ],
 "metadata": {
  "kernelspec": {
   "display_name": "venv",
   "language": "python",
   "name": "python3"
  },
  "language_info": {
   "codemirror_mode": {
    "name": "ipython",
    "version": 3
   },
   "file_extension": ".py",
   "mimetype": "text/x-python",
   "name": "python",
   "nbconvert_exporter": "python",
   "pygments_lexer": "ipython3",
   "version": "3.11.0"
  }
 },
 "nbformat": 4,
 "nbformat_minor": 5
}
