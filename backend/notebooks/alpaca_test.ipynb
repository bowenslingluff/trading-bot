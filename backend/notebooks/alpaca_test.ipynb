{
 "cells": [
  {
   "cell_type": "code",
   "execution_count": null,
   "id": "d7fba93a",
   "metadata": {},
   "outputs": [],
   "source": [
    "import sys\n",
    "import os\n",
    "sys.path.append('../')  # Add the app directory to path\n",
    "\n",
    "from app.alpaca_client import *\n",
    "import time"
   ]
  },
  {
   "cell_type": "code",
   "execution_count": null,
   "id": "0395ce95",
   "metadata": {},
   "outputs": [],
   "source": [
    "try:\n",
    "    # Place a small buy order for AAPL (1 share)\n",
    "    order = bracket_order(\"AAPL\", 1, \"buy\", 224, 230, \"limit\", 226)\n",
    "    print(\"✅ Order placed successfully!\")\n",
    "    print(f\"Order ID: {order.id}\")\n",
    "    print(f\"Status: {order.status}\")\n",
    "    print(f\"Symbol: {order.symbol}\")\n",
    "    print(f\"Quantity: {order.qty}\")\n",
    "    print(f\"Side: {order.side}\")\n",
    "except Exception as e:\n",
    "    print(f\"❌ Error placing order: {e}\")"
   ]
  },
  {
   "cell_type": "code",
   "execution_count": null,
   "id": "bf3665d6",
   "metadata": {},
   "outputs": [],
   "source": [
    "try:\n",
    "    orders = get_orders()\n",
    "    print(f\"Total orders: {len(orders)}\")\n",
    "    print(\"-\" * 50)\n",
    "    for i, order in enumerate(orders, 1):\n",
    "        print(f\"{i}. Order ID: {order.id}\")\n",
    "        print(f\"   Symbol: {order.symbol}\")\n",
    "        print(f\"   Quantity: {order.qty}\")\n",
    "        print(f\"   Side: {order.side}\")\n",
    "        print(f\"   Status: {order.status}\")\n",
    "        print(f\"   Created: {order.created_at}\")\n",
    "        print(\"-\" * 30)\n",
    "\n",
    "\n",
    "except Exception as e:\n",
    "    print(f\"❌ Error placing order: {e}\")"
   ]
  },
  {
   "cell_type": "code",
   "execution_count": null,
   "id": "dc38ed60",
   "metadata": {},
   "outputs": [],
   "source": [
    "try:\n",
    "    # Replace with your actual order ID\n",
    "    order_id = \"7a83c6b7-e3b9-4d88-94cd-57841c97b00d\"  # Update this!\n",
    "    \n",
    "    print(cancel_order_by_id(order_id))\n",
    "    \n",
    "    # Wait a moment and check status\n",
    "    time.sleep(2)\n",
    "    status = get_order_status(order_id)\n",
    "    print(f\"�� Order status after cancellation: {status}\")\n",
    "    \n",
    "except Exception as e:\n",
    "    print(f\"❌ Error cancelling order: {e}\")"
   ]
  },
  {
   "cell_type": "code",
   "execution_count": 3,
   "id": "acc77e60",
   "metadata": {},
   "outputs": [],
   "source": [
    "bars = get_15min_data(\"AAPL\")\n"
   ]
  },
  {
   "cell_type": "code",
   "execution_count": 4,
   "id": "ef839dda",
   "metadata": {},
   "outputs": [
    {
     "name": "stdout",
     "output_type": "stream",
     "text": [
      "                             open     high       low     close     volume  \\\n",
      "timestamp                                                                   \n",
      "2025-09-05 16:00:00+00:00  238.99  239.265  238.7100  239.0800   899484.0   \n",
      "2025-09-05 16:15:00+00:00  239.07  239.130  238.5200  238.7700   787766.0   \n",
      "2025-09-05 16:30:00+00:00  238.78  239.440  238.4901  239.4109  1019396.0   \n",
      "2025-09-05 16:45:00+00:00  239.41  239.720  238.9052  239.3300  1308015.0   \n",
      "2025-09-05 17:00:00+00:00  239.30  239.730  239.1500  239.5700   968465.0   \n",
      "...                           ...      ...       ...       ...        ...   \n",
      "2025-09-12 14:45:00+00:00  233.91  234.180  233.4700  233.9400  1780642.0   \n",
      "2025-09-12 15:00:00+00:00  233.95  234.290  233.5600  233.9000  1746601.0   \n",
      "2025-09-12 15:15:00+00:00  233.90  234.220  233.3600  234.0950  1601990.0   \n",
      "2025-09-12 15:30:00+00:00  234.09  234.270  233.6210  233.8600  1127332.0   \n",
      "2025-09-12 15:45:00+00:00  233.85  234.490  233.8500  233.9700  1533560.0   \n",
      "\n",
      "                           trade_count        vwap symbol  \n",
      "timestamp                                                  \n",
      "2025-09-05 16:00:00+00:00      13552.0  238.973238   AAPL  \n",
      "2025-09-05 16:15:00+00:00      11721.0  238.821468   AAPL  \n",
      "2025-09-05 16:30:00+00:00      14512.0  238.988989   AAPL  \n",
      "2025-09-05 16:45:00+00:00      16399.0  239.382657   AAPL  \n",
      "2025-09-05 17:00:00+00:00      13154.0  239.416655   AAPL  \n",
      "...                                ...         ...    ...  \n",
      "2025-09-12 14:45:00+00:00      27046.0  233.841123   AAPL  \n",
      "2025-09-12 15:00:00+00:00      24651.0  233.953010   AAPL  \n",
      "2025-09-12 15:15:00+00:00      21132.0  233.912296   AAPL  \n",
      "2025-09-12 15:30:00+00:00      18069.0  233.968431   AAPL  \n",
      "2025-09-12 15:45:00+00:00      16130.0  234.205850   AAPL  \n",
      "\n",
      "[320 rows x 8 columns]\n"
     ]
    }
   ],
   "source": [
    "print(bars)"
   ]
  }
 ],
 "metadata": {
  "kernelspec": {
   "display_name": "venv",
   "language": "python",
   "name": "python3"
  },
  "language_info": {
   "codemirror_mode": {
    "name": "ipython",
    "version": 3
   },
   "file_extension": ".py",
   "mimetype": "text/x-python",
   "name": "python",
   "nbconvert_exporter": "python",
   "pygments_lexer": "ipython3",
   "version": "3.11.0"
  }
 },
 "nbformat": 4,
 "nbformat_minor": 5
}
